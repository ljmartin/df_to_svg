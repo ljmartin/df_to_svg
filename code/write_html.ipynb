{
 "cells": [
  {
   "cell_type": "markdown",
   "metadata": {},
   "source": [
    "# df --> html with jupyter formatting\n",
    "\n",
    "When copying a table into word, it's best to keep the \"table\"ness of it - i.e. the cell boundaries, which SVG cannot do. \n",
    "\n",
    "HTML can do this, since it has explicit `table` knowledge. While the full formatting doesn't get copied into Word, it's close, and the last 20% or so can be done by formatting it.\n",
    "\n",
    "Otherwise, using a browser, the HTML generated below quite closely resembles a `df` as viewed Jupyter notebook. \n",
    "\n",
    "\n",
    "source/credit: https://stackoverflow.com/a/62716643/3089865 , https://stackoverflow.com/a/49687866/3089865\n",
    "\n"
   ]
  },
  {
   "cell_type": "code",
   "execution_count": 2,
   "metadata": {},
   "outputs": [],
   "source": [
    "import pandas as pd\n",
    "\n",
    "df = pd.read_csv('https://gist.githubusercontent.com/netj/8836201/raw/6f9306ad21398ea43cba4f7d537619d0e07d5ae3/iris.csv')\n",
    "df = df.iloc[:10]"
   ]
  },
  {
   "cell_type": "code",
   "execution_count": 6,
   "metadata": {},
   "outputs": [],
   "source": [
    "def getTableHTML(df):\n",
    "    \n",
    "    \"\"\"\n",
    "    From https://stackoverflow.com/a/49687866/2007153\n",
    "    \n",
    "    Get a Jupyter like html of pandas dataframe\n",
    "    \n",
    "    \"\"\"\n",
    "\n",
    "    styles = [\n",
    "        #table properties\n",
    "        dict(selector=\" \", \n",
    "             props=[(\"margin\",\"0\"),\n",
    "                    (\"font-family\",'\"Helvetica\", \"Arial\", sans-serif'),\n",
    "                    (\"border-collapse\", \"collapse\"),\n",
    "                    (\"border\",\"none\"),\n",
    "                    #(\"border\", \"2px solid #ccf\") #border looks bad\n",
    "                       ]),\n",
    "\n",
    "        #header color - optional\n",
    "    #     dict(selector=\"thead\", \n",
    "    #          props=[(\"background-color\",\"#cc8484\")\n",
    "    #                ]),\n",
    "\n",
    "        #background shading\n",
    "        dict(selector=\"tbody tr:nth-child(even)\",\n",
    "             props=[(\"background-color\", \"#fff\")]),\n",
    "        dict(selector=\"tbody tr:nth-child(odd)\",\n",
    "             props=[(\"background-color\", \"#eee\")]),\n",
    "\n",
    "        #cell spacing\n",
    "        dict(selector=\"td\", \n",
    "             props=[(\"padding\", \".5em\")]),\n",
    "\n",
    "        #header cell properties\n",
    "        dict(selector=\"th\", \n",
    "             props=[(\"font-size\", \"100%\"),\n",
    "                    (\"text-align\", \"center\")]),\n",
    "        \n",
    "\n",
    "\n",
    "    ]\n",
    "    return (df.style.set_table_styles(styles)).render()\n",
    "\n",
    "b = open('df.html', 'w')\n",
    "b.write(getTableHTML(df))\n",
    "b.close()"
   ]
  },
  {
   "cell_type": "code",
   "execution_count": null,
   "metadata": {},
   "outputs": [],
   "source": []
  }
 ],
 "metadata": {
  "kernelspec": {
   "display_name": "Python 3",
   "language": "python",
   "name": "python3"
  },
  "language_info": {
   "codemirror_mode": {
    "name": "ipython",
    "version": 3
   },
   "file_extension": ".py",
   "mimetype": "text/x-python",
   "name": "python",
   "nbconvert_exporter": "python",
   "pygments_lexer": "ipython3",
   "version": "3.7.8"
  }
 },
 "nbformat": 4,
 "nbformat_minor": 4
}
