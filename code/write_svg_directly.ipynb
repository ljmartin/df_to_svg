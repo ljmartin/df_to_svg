{
 "cells": [
  {
   "cell_type": "markdown",
   "metadata": {},
   "source": [
    "Load up a test dataframe:"
   ]
  },
  {
   "cell_type": "code",
   "execution_count": 1,
   "metadata": {},
   "outputs": [],
   "source": [
    "import pandas as pd\n",
    "\n",
    "df = pd.read_csv('https://gist.githubusercontent.com/netj/8836201/raw/6f9306ad21398ea43cba4f7d537619d0e07d5ae3/iris.csv')\n",
    "df = df.iloc[:10]"
   ]
  },
  {
   "cell_type": "markdown",
   "metadata": {},
   "source": [
    "Set some sizes. Ideally these can be set automatically (along with the fontsize) and later use the textwrap library to handle long strings"
   ]
  },
  {
   "cell_type": "code",
   "execution_count": 2,
   "metadata": {},
   "outputs": [],
   "source": [
    "figwidth = 400\n",
    "figheight = 300\n",
    "ncols = len(df.columns)\n",
    "colwidth = figwidth/ncols\n",
    "rowheight = figheight/ (len(df)+1) #plus one for the header row. "
   ]
  },
  {
   "cell_type": "markdown",
   "metadata": {},
   "source": [
    "These handle the `<text>`, `<line>` and `<rect>` elements. Together these can make any dataframe!"
   ]
  },
  {
   "cell_type": "code",
   "execution_count": 3,
   "metadata": {},
   "outputs": [],
   "source": [
    "def gettxt(st, x, y, length, height, va='central', cl='normal'):\n",
    "    \n",
    "    \"\"\"Adds a text element. x and y refer to the bottom left of the cell. \n",
    "    The actual x,y position of the text is inferred from the cell \n",
    "    type (i.e. is it a column header or not, and is it a string or number) \"\"\"\n",
    "    \n",
    "    _y = y - height/2 #y alignment is always the same\n",
    "    \n",
    "    if cl == 'heavy': #it's a header cell\n",
    "        _x = x + length/2\n",
    "        ha = 'middle'\n",
    "        \n",
    "    else: #it's a value cell.\n",
    "        if isinstance(st, str): #strings go in the middle of the cell\n",
    "            _x = x + length/2\n",
    "            ha = 'middle'\n",
    "        else: #its a float.\n",
    "            _x = x+length - length/10\n",
    "            ha = 'end'\n",
    "    \n",
    "    ln = f\"  <text x=\\\"{_x}\\\" y=\\\"{_y}\\\" text-anchor=\\\"{ha}\\\" class=\\\"{cl}\\\">{st}</text>  \\n\"\n",
    "    return ln\n",
    "\n",
    "def hline(x1,y1, x2, y2):\n",
    "    vln = f\"  <line x1=\\\"{x1}\\\" y1=\\\"{y1}\\\" x2=\\\"{x2}\\\" y2=\\\"{y2}\\\" style=\\\"stroke:rgb(0,0,0);stroke-width:0.5\\\" />\"\n",
    "    return vln\n",
    "\n",
    "def hbox(nrow, rowheight, figwidth, ):\n",
    "    hbox = f\"\"\"  <rect x=\"0\" y=\"{(nrow+1)*rowheight}\" width=\"{figwidth}\" height=\"{rowheight}\" style=\"fill:#eee;fill-opacity:0.8;stroke-width:0;stroke:rgb(0,0,0)\" />\\n\"\"\"\n",
    "    return hbox\n",
    "    \n",
    "    "
   ]
  },
  {
   "cell_type": "markdown",
   "metadata": {},
   "source": [
    "Open up an svg file and add the SVG header:"
   ]
  },
  {
   "cell_type": "code",
   "execution_count": 4,
   "metadata": {},
   "outputs": [
    {
     "data": {
      "text/plain": [
       "316"
      ]
     },
     "execution_count": 4,
     "metadata": {},
     "output_type": "execute_result"
    }
   ],
   "source": [
    "f = open('svg_directly.svg', 'w')\n",
    "f.write(f\"\"\"<svg version=\"1.1\"\n",
    "     baseProfile=\"full\"\n",
    "     width=\"{figwidth}\" height=\"{figheight}\"\n",
    "     xmlns=\"http://www.w3.org/2000/svg\">\n",
    "    <style>\n",
    "     .normal {{ font: normal 12px sans-serif; fill: black; dominant-baseline: central; }}\n",
    "     .heavy {{ font: bold 12px sans-serif; fill: black; dominant-baseline: central; }}\n",
    "    </style>\n",
    "   \n",
    "\"\"\")"
   ]
  },
  {
   "cell_type": "markdown",
   "metadata": {},
   "source": [
    "Write the dataframe column headers with `<text>` in bold and the horizontal line under the header:"
   ]
  },
  {
   "cell_type": "code",
   "execution_count": 5,
   "metadata": {},
   "outputs": [
    {
     "data": {
      "text/plain": [
       "1"
      ]
     },
     "execution_count": 5,
     "metadata": {},
     "output_type": "execute_result"
    }
   ],
   "source": [
    "\n",
    "for count, col in enumerate(df.columns):\n",
    "    f.write( gettxt(col, count*colwidth, rowheight,colwidth, rowheight, cl='heavy') )\n",
    "    \n",
    "f.write( hline(0, rowheight, figwidth, rowheight) )\n",
    "f.write('\\n')"
   ]
  },
  {
   "cell_type": "markdown",
   "metadata": {},
   "source": [
    "Write the table values and horizontal shaded boxes:"
   ]
  },
  {
   "cell_type": "code",
   "execution_count": 6,
   "metadata": {},
   "outputs": [],
   "source": [
    "\n",
    "shaded = True\n",
    "for rownum in range(df.shape[0]):\n",
    "    row = df.iloc[rownum]\n",
    "    if shaded:\n",
    "        f.write(hbox(rownum, rowheight, figwidth))\n",
    "    shaded = not shaded\n",
    "    for count, value in enumerate(row):\n",
    "        f.write( gettxt(value, (count)*colwidth, (rownum+2)*rowheight, colwidth, rowheight, cl='normal') )"
   ]
  },
  {
   "cell_type": "markdown",
   "metadata": {},
   "source": [
    "Done. close file"
   ]
  },
  {
   "cell_type": "code",
   "execution_count": 7,
   "metadata": {},
   "outputs": [],
   "source": [
    "f.write(\"\"\" </svg>\"\"\")\n",
    "f.close()"
   ]
  },
  {
   "cell_type": "markdown",
   "metadata": {},
   "source": [
    "# Now compare the pair:"
   ]
  },
  {
   "cell_type": "code",
   "execution_count": 8,
   "metadata": {},
   "outputs": [
    {
     "data": {
      "image/svg+xml": [
       "<svg baseProfile=\"full\" height=\"300\" version=\"1.1\" width=\"400\" xmlns=\"http://www.w3.org/2000/svg\">\n",
       "    <style>\n",
       "     .normal { font: normal 12px sans-serif; fill: black; dominant-baseline: central; }\n",
       "     .heavy { font: bold 12px sans-serif; fill: black; dominant-baseline: central; }\n",
       "    </style>\n",
       "   \n",
       "  <text class=\"heavy\" text-anchor=\"middle\" x=\"40.0\" y=\"13.636363636363637\">sepal.length</text>  \n",
       "  <text class=\"heavy\" text-anchor=\"middle\" x=\"120.0\" y=\"13.636363636363637\">sepal.width</text>  \n",
       "  <text class=\"heavy\" text-anchor=\"middle\" x=\"200.0\" y=\"13.636363636363637\">petal.length</text>  \n",
       "  <text class=\"heavy\" text-anchor=\"middle\" x=\"280.0\" y=\"13.636363636363637\">petal.width</text>  \n",
       "  <text class=\"heavy\" text-anchor=\"middle\" x=\"360.0\" y=\"13.636363636363637\">variety</text>  \n",
       "  <line style=\"stroke:rgb(0,0,0);stroke-width:0.5\" x1=\"0\" x2=\"400\" y1=\"27.272727272727273\" y2=\"27.272727272727273\"/>\n",
       "  <rect height=\"27.272727272727273\" style=\"fill:#eee;fill-opacity:0.8;stroke-width:0;stroke:rgb(0,0,0)\" width=\"400\" x=\"0\" y=\"27.272727272727273\"/>\n",
       "  <text class=\"normal\" text-anchor=\"end\" x=\"72.0\" y=\"40.90909090909091\">5.1</text>  \n",
       "  <text class=\"normal\" text-anchor=\"end\" x=\"152.0\" y=\"40.90909090909091\">3.5</text>  \n",
       "  <text class=\"normal\" text-anchor=\"end\" x=\"232.0\" y=\"40.90909090909091\">1.4</text>  \n",
       "  <text class=\"normal\" text-anchor=\"end\" x=\"312.0\" y=\"40.90909090909091\">0.2</text>  \n",
       "  <text class=\"normal\" text-anchor=\"middle\" x=\"360.0\" y=\"40.90909090909091\">Setosa</text>  \n",
       "  <text class=\"normal\" text-anchor=\"end\" x=\"72.0\" y=\"68.18181818181817\">4.9</text>  \n",
       "  <text class=\"normal\" text-anchor=\"end\" x=\"152.0\" y=\"68.18181818181817\">3.0</text>  \n",
       "  <text class=\"normal\" text-anchor=\"end\" x=\"232.0\" y=\"68.18181818181817\">1.4</text>  \n",
       "  <text class=\"normal\" text-anchor=\"end\" x=\"312.0\" y=\"68.18181818181817\">0.2</text>  \n",
       "  <text class=\"normal\" text-anchor=\"middle\" x=\"360.0\" y=\"68.18181818181817\">Setosa</text>  \n",
       "  <rect height=\"27.272727272727273\" style=\"fill:#eee;fill-opacity:0.8;stroke-width:0;stroke:rgb(0,0,0)\" width=\"400\" x=\"0\" y=\"81.81818181818181\"/>\n",
       "  <text class=\"normal\" text-anchor=\"end\" x=\"72.0\" y=\"95.45454545454545\">4.7</text>  \n",
       "  <text class=\"normal\" text-anchor=\"end\" x=\"152.0\" y=\"95.45454545454545\">3.2</text>  \n",
       "  <text class=\"normal\" text-anchor=\"end\" x=\"232.0\" y=\"95.45454545454545\">1.3</text>  \n",
       "  <text class=\"normal\" text-anchor=\"end\" x=\"312.0\" y=\"95.45454545454545\">0.2</text>  \n",
       "  <text class=\"normal\" text-anchor=\"middle\" x=\"360.0\" y=\"95.45454545454545\">Setosa</text>  \n",
       "  <text class=\"normal\" text-anchor=\"end\" x=\"72.0\" y=\"122.72727272727273\">4.6</text>  \n",
       "  <text class=\"normal\" text-anchor=\"end\" x=\"152.0\" y=\"122.72727272727273\">3.1</text>  \n",
       "  <text class=\"normal\" text-anchor=\"end\" x=\"232.0\" y=\"122.72727272727273\">1.5</text>  \n",
       "  <text class=\"normal\" text-anchor=\"end\" x=\"312.0\" y=\"122.72727272727273\">0.2</text>  \n",
       "  <text class=\"normal\" text-anchor=\"middle\" x=\"360.0\" y=\"122.72727272727273\">Setosa</text>  \n",
       "  <rect height=\"27.272727272727273\" style=\"fill:#eee;fill-opacity:0.8;stroke-width:0;stroke:rgb(0,0,0)\" width=\"400\" x=\"0\" y=\"136.36363636363637\"/>\n",
       "  <text class=\"normal\" text-anchor=\"end\" x=\"72.0\" y=\"150.0\">5.0</text>  \n",
       "  <text class=\"normal\" text-anchor=\"end\" x=\"152.0\" y=\"150.0\">3.6</text>  \n",
       "  <text class=\"normal\" text-anchor=\"end\" x=\"232.0\" y=\"150.0\">1.4</text>  \n",
       "  <text class=\"normal\" text-anchor=\"end\" x=\"312.0\" y=\"150.0\">0.2</text>  \n",
       "  <text class=\"normal\" text-anchor=\"middle\" x=\"360.0\" y=\"150.0\">Setosa</text>  \n",
       "  <text class=\"normal\" text-anchor=\"end\" x=\"72.0\" y=\"177.27272727272728\">5.4</text>  \n",
       "  <text class=\"normal\" text-anchor=\"end\" x=\"152.0\" y=\"177.27272727272728\">3.9</text>  \n",
       "  <text class=\"normal\" text-anchor=\"end\" x=\"232.0\" y=\"177.27272727272728\">1.7</text>  \n",
       "  <text class=\"normal\" text-anchor=\"end\" x=\"312.0\" y=\"177.27272727272728\">0.4</text>  \n",
       "  <text class=\"normal\" text-anchor=\"middle\" x=\"360.0\" y=\"177.27272727272728\">Setosa</text>  \n",
       "  <rect height=\"27.272727272727273\" style=\"fill:#eee;fill-opacity:0.8;stroke-width:0;stroke:rgb(0,0,0)\" width=\"400\" x=\"0\" y=\"190.9090909090909\"/>\n",
       "  <text class=\"normal\" text-anchor=\"end\" x=\"72.0\" y=\"204.54545454545456\">4.6</text>  \n",
       "  <text class=\"normal\" text-anchor=\"end\" x=\"152.0\" y=\"204.54545454545456\">3.4</text>  \n",
       "  <text class=\"normal\" text-anchor=\"end\" x=\"232.0\" y=\"204.54545454545456\">1.4</text>  \n",
       "  <text class=\"normal\" text-anchor=\"end\" x=\"312.0\" y=\"204.54545454545456\">0.3</text>  \n",
       "  <text class=\"normal\" text-anchor=\"middle\" x=\"360.0\" y=\"204.54545454545456\">Setosa</text>  \n",
       "  <text class=\"normal\" text-anchor=\"end\" x=\"72.0\" y=\"231.81818181818184\">5.0</text>  \n",
       "  <text class=\"normal\" text-anchor=\"end\" x=\"152.0\" y=\"231.81818181818184\">3.4</text>  \n",
       "  <text class=\"normal\" text-anchor=\"end\" x=\"232.0\" y=\"231.81818181818184\">1.5</text>  \n",
       "  <text class=\"normal\" text-anchor=\"end\" x=\"312.0\" y=\"231.81818181818184\">0.2</text>  \n",
       "  <text class=\"normal\" text-anchor=\"middle\" x=\"360.0\" y=\"231.81818181818184\">Setosa</text>  \n",
       "  <rect height=\"27.272727272727273\" style=\"fill:#eee;fill-opacity:0.8;stroke-width:0;stroke:rgb(0,0,0)\" width=\"400\" x=\"0\" y=\"245.45454545454547\"/>\n",
       "  <text class=\"normal\" text-anchor=\"end\" x=\"72.0\" y=\"259.0909090909091\">4.4</text>  \n",
       "  <text class=\"normal\" text-anchor=\"end\" x=\"152.0\" y=\"259.0909090909091\">2.9</text>  \n",
       "  <text class=\"normal\" text-anchor=\"end\" x=\"232.0\" y=\"259.0909090909091\">1.4</text>  \n",
       "  <text class=\"normal\" text-anchor=\"end\" x=\"312.0\" y=\"259.0909090909091\">0.2</text>  \n",
       "  <text class=\"normal\" text-anchor=\"middle\" x=\"360.0\" y=\"259.0909090909091\">Setosa</text>  \n",
       "  <text class=\"normal\" text-anchor=\"end\" x=\"72.0\" y=\"286.3636363636364\">4.9</text>  \n",
       "  <text class=\"normal\" text-anchor=\"end\" x=\"152.0\" y=\"286.3636363636364\">3.1</text>  \n",
       "  <text class=\"normal\" text-anchor=\"end\" x=\"232.0\" y=\"286.3636363636364\">1.5</text>  \n",
       "  <text class=\"normal\" text-anchor=\"end\" x=\"312.0\" y=\"286.3636363636364\">0.1</text>  \n",
       "  <text class=\"normal\" text-anchor=\"middle\" x=\"360.0\" y=\"286.3636363636364\">Setosa</text>  \n",
       " </svg>"
      ],
      "text/plain": [
       "<IPython.core.display.SVG object>"
      ]
     },
     "execution_count": 8,
     "metadata": {},
     "output_type": "execute_result"
    }
   ],
   "source": [
    "from IPython.display import SVG\n",
    "s = open('svg_directly.svg').read()\n",
    "SVG(s)"
   ]
  },
  {
   "cell_type": "code",
   "execution_count": 9,
   "metadata": {},
   "outputs": [
    {
     "data": {
      "text/html": [
       "<div>\n",
       "<style scoped>\n",
       "    .dataframe tbody tr th:only-of-type {\n",
       "        vertical-align: middle;\n",
       "    }\n",
       "\n",
       "    .dataframe tbody tr th {\n",
       "        vertical-align: top;\n",
       "    }\n",
       "\n",
       "    .dataframe thead th {\n",
       "        text-align: right;\n",
       "    }\n",
       "</style>\n",
       "<table border=\"1\" class=\"dataframe\">\n",
       "  <thead>\n",
       "    <tr style=\"text-align: right;\">\n",
       "      <th></th>\n",
       "      <th>sepal.length</th>\n",
       "      <th>sepal.width</th>\n",
       "      <th>petal.length</th>\n",
       "      <th>petal.width</th>\n",
       "      <th>variety</th>\n",
       "    </tr>\n",
       "  </thead>\n",
       "  <tbody>\n",
       "    <tr>\n",
       "      <th>0</th>\n",
       "      <td>5.1</td>\n",
       "      <td>3.5</td>\n",
       "      <td>1.4</td>\n",
       "      <td>0.2</td>\n",
       "      <td>Setosa</td>\n",
       "    </tr>\n",
       "    <tr>\n",
       "      <th>1</th>\n",
       "      <td>4.9</td>\n",
       "      <td>3.0</td>\n",
       "      <td>1.4</td>\n",
       "      <td>0.2</td>\n",
       "      <td>Setosa</td>\n",
       "    </tr>\n",
       "    <tr>\n",
       "      <th>2</th>\n",
       "      <td>4.7</td>\n",
       "      <td>3.2</td>\n",
       "      <td>1.3</td>\n",
       "      <td>0.2</td>\n",
       "      <td>Setosa</td>\n",
       "    </tr>\n",
       "    <tr>\n",
       "      <th>3</th>\n",
       "      <td>4.6</td>\n",
       "      <td>3.1</td>\n",
       "      <td>1.5</td>\n",
       "      <td>0.2</td>\n",
       "      <td>Setosa</td>\n",
       "    </tr>\n",
       "    <tr>\n",
       "      <th>4</th>\n",
       "      <td>5.0</td>\n",
       "      <td>3.6</td>\n",
       "      <td>1.4</td>\n",
       "      <td>0.2</td>\n",
       "      <td>Setosa</td>\n",
       "    </tr>\n",
       "    <tr>\n",
       "      <th>5</th>\n",
       "      <td>5.4</td>\n",
       "      <td>3.9</td>\n",
       "      <td>1.7</td>\n",
       "      <td>0.4</td>\n",
       "      <td>Setosa</td>\n",
       "    </tr>\n",
       "    <tr>\n",
       "      <th>6</th>\n",
       "      <td>4.6</td>\n",
       "      <td>3.4</td>\n",
       "      <td>1.4</td>\n",
       "      <td>0.3</td>\n",
       "      <td>Setosa</td>\n",
       "    </tr>\n",
       "    <tr>\n",
       "      <th>7</th>\n",
       "      <td>5.0</td>\n",
       "      <td>3.4</td>\n",
       "      <td>1.5</td>\n",
       "      <td>0.2</td>\n",
       "      <td>Setosa</td>\n",
       "    </tr>\n",
       "    <tr>\n",
       "      <th>8</th>\n",
       "      <td>4.4</td>\n",
       "      <td>2.9</td>\n",
       "      <td>1.4</td>\n",
       "      <td>0.2</td>\n",
       "      <td>Setosa</td>\n",
       "    </tr>\n",
       "    <tr>\n",
       "      <th>9</th>\n",
       "      <td>4.9</td>\n",
       "      <td>3.1</td>\n",
       "      <td>1.5</td>\n",
       "      <td>0.1</td>\n",
       "      <td>Setosa</td>\n",
       "    </tr>\n",
       "  </tbody>\n",
       "</table>\n",
       "</div>"
      ],
      "text/plain": [
       "   sepal.length  sepal.width  petal.length  petal.width variety\n",
       "0           5.1          3.5           1.4          0.2  Setosa\n",
       "1           4.9          3.0           1.4          0.2  Setosa\n",
       "2           4.7          3.2           1.3          0.2  Setosa\n",
       "3           4.6          3.1           1.5          0.2  Setosa\n",
       "4           5.0          3.6           1.4          0.2  Setosa\n",
       "5           5.4          3.9           1.7          0.4  Setosa\n",
       "6           4.6          3.4           1.4          0.3  Setosa\n",
       "7           5.0          3.4           1.5          0.2  Setosa\n",
       "8           4.4          2.9           1.4          0.2  Setosa\n",
       "9           4.9          3.1           1.5          0.1  Setosa"
      ]
     },
     "execution_count": 9,
     "metadata": {},
     "output_type": "execute_result"
    }
   ],
   "source": [
    "df"
   ]
  },
  {
   "cell_type": "code",
   "execution_count": null,
   "metadata": {},
   "outputs": [],
   "source": []
  },
  {
   "cell_type": "code",
   "execution_count": null,
   "metadata": {},
   "outputs": [],
   "source": []
  },
  {
   "cell_type": "code",
   "execution_count": null,
   "metadata": {},
   "outputs": [],
   "source": []
  }
 ],
 "metadata": {
  "kernelspec": {
   "display_name": "Python 3",
   "language": "python",
   "name": "python3"
  },
  "language_info": {
   "codemirror_mode": {
    "name": "ipython",
    "version": 3
   },
   "file_extension": ".py",
   "mimetype": "text/x-python",
   "name": "python",
   "nbconvert_exporter": "python",
   "pygments_lexer": "ipython3",
   "version": "3.7.8"
  }
 },
 "nbformat": 4,
 "nbformat_minor": 4
}
