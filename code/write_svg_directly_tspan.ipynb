{
 "cells": [
  {
   "cell_type": "markdown",
   "metadata": {},
   "source": [
    "Another way, which might be more concise, is to use tspan elements. see below for example"
   ]
  },
  {
   "cell_type": "code",
   "execution_count": 2,
   "metadata": {},
   "outputs": [],
   "source": [
    "s = \"\"\"<?xml version='1.0' standalone='no'?>\n",
    "<!DOCTYPE svg PUBLIC '-//W3C//DTD SVG 1.1//EN'\n",
    "  'http://www.w3.org/Graphics/SVG/1.1/DTD/svg11.dtd'>\n",
    "<svg width='100%' height='100%' xmlns='http://www.w3.org/2000/svg' xmlns:xlink='http://www.w3.org/1999/xlink'>\n",
    "\n",
    "   <title>SVG Table</title>\n",
    "\n",
    "   <g id='rowGroup'>\n",
    "      <rect x='25' y='40' width='310' height='20' fill='#eee' fill-opacity='1'/>\n",
    "      <rect x='25' y='76' width='310' height='20' fill='#eee'/>\n",
    "\n",
    "      <text x='30' y='30' font-size='18px' font-weight='bold' fill='crimson'>\n",
    "         <tspan x='30' dy='1.5em'>Q1</tspan>\n",
    "         <tspan x='30' dy='1em'>Q2</tspan>\n",
    "         <tspan x='30' dy='1em'>Q3</tspan>\n",
    "         <tspan x='30' dy='1em'>Q4</tspan>\n",
    "      </text>\n",
    "\n",
    "      <text x='100' y='30' font-size='18px' text-anchor='middle'>\n",
    "         <tspan x='100' font-weight='bold' fill='crimson'>Sales</tspan>\n",
    "         <tspan x='100' dy='1.5em'>$ 223</tspan>\n",
    "         <tspan x='100' dy='1em'>$ 183</tspan>\n",
    "         <tspan x='100' dy='1em'>$ 277</tspan>\n",
    "         <tspan x='100' dy='1em'>$ 402</tspan>\n",
    "      </text>\n",
    "\n",
    "      <text x='200' y='30' font-size='18px' text-anchor='middle'>\n",
    "         <tspan x='200' font-weight='bold' fill='crimson'>Expenses</tspan>\n",
    "         <tspan x='200' dy='1.5em'>$ 195</tspan>\n",
    "         <tspan x='200' dy='1em'>$ 70</tspan>\n",
    "         <tspan x='200' dy='1em'>$ 88</tspan>\n",
    "         <tspan x='200' dy='1em'>$ 133</tspan>\n",
    "      </text>\n",
    "\n",
    "      <text x='300' y='30' font-size='18px' text-anchor='middle'>\n",
    "         <tspan x='300' font-weight='bold' fill='crimson'>Net</tspan>\n",
    "         <tspan x='300' dy='1.5em'>$ 28</tspan>\n",
    "         <tspan x='300' dy='1em'>$ 113</tspan>\n",
    "         <tspan x='300' dy='1em'>$ 189</tspan>\n",
    "         <tspan x='300' dy='1em'>$ 269</tspan>\n",
    "      </text>\n",
    "   </g>\n",
    "</svg>\"\"\""
   ]
  },
  {
   "cell_type": "code",
   "execution_count": 3,
   "metadata": {},
   "outputs": [
    {
     "data": {
      "image/svg+xml": [
       "<svg height=\"100%\" width=\"100%\" xmlns=\"http://www.w3.org/2000/svg\" xmlns:xlink=\"http://www.w3.org/1999/xlink\">\n",
       "\n",
       "   <title>SVG Table</title>\n",
       "\n",
       "   <g id=\"rowGroup\">\n",
       "      <rect fill=\"#eee\" fill-opacity=\"1\" height=\"20\" width=\"310\" x=\"25\" y=\"40\"/>\n",
       "      <rect fill=\"#eee\" height=\"20\" width=\"310\" x=\"25\" y=\"76\"/>\n",
       "\n",
       "      <text fill=\"crimson\" font-size=\"18px\" font-weight=\"bold\" x=\"30\" y=\"30\">\n",
       "         <tspan dy=\"1.5em\" x=\"30\">Q1</tspan>\n",
       "         <tspan dy=\"1em\" x=\"30\">Q2</tspan>\n",
       "         <tspan dy=\"1em\" x=\"30\">Q3</tspan>\n",
       "         <tspan dy=\"1em\" x=\"30\">Q4</tspan>\n",
       "      </text>\n",
       "\n",
       "      <text font-size=\"18px\" text-anchor=\"middle\" x=\"100\" y=\"30\">\n",
       "         <tspan fill=\"crimson\" font-weight=\"bold\" x=\"100\">Sales</tspan>\n",
       "         <tspan dy=\"1.5em\" x=\"100\">$ 223</tspan>\n",
       "         <tspan dy=\"1em\" x=\"100\">$ 183</tspan>\n",
       "         <tspan dy=\"1em\" x=\"100\">$ 277</tspan>\n",
       "         <tspan dy=\"1em\" x=\"100\">$ 402</tspan>\n",
       "      </text>\n",
       "\n",
       "      <text font-size=\"18px\" text-anchor=\"middle\" x=\"200\" y=\"30\">\n",
       "         <tspan fill=\"crimson\" font-weight=\"bold\" x=\"200\">Expenses</tspan>\n",
       "         <tspan dy=\"1.5em\" x=\"200\">$ 195</tspan>\n",
       "         <tspan dy=\"1em\" x=\"200\">$ 70</tspan>\n",
       "         <tspan dy=\"1em\" x=\"200\">$ 88</tspan>\n",
       "         <tspan dy=\"1em\" x=\"200\">$ 133</tspan>\n",
       "      </text>\n",
       "\n",
       "      <text font-size=\"18px\" text-anchor=\"middle\" x=\"300\" y=\"30\">\n",
       "         <tspan fill=\"crimson\" font-weight=\"bold\" x=\"300\">Net</tspan>\n",
       "         <tspan dy=\"1.5em\" x=\"300\">$ 28</tspan>\n",
       "         <tspan dy=\"1em\" x=\"300\">$ 113</tspan>\n",
       "         <tspan dy=\"1em\" x=\"300\">$ 189</tspan>\n",
       "         <tspan dy=\"1em\" x=\"300\">$ 269</tspan>\n",
       "      </text>\n",
       "   </g>\n",
       "</svg>"
      ],
      "text/plain": [
       "<IPython.core.display.SVG object>"
      ]
     },
     "execution_count": 3,
     "metadata": {},
     "output_type": "execute_result"
    }
   ],
   "source": [
    "from IPython.display import SVG\n",
    "SVG(s)"
   ]
  },
  {
   "cell_type": "code",
   "execution_count": null,
   "metadata": {},
   "outputs": [],
   "source": []
  }
 ],
 "metadata": {
  "kernelspec": {
   "display_name": "Python 3",
   "language": "python",
   "name": "python3"
  },
  "language_info": {
   "codemirror_mode": {
    "name": "ipython",
    "version": 3
   },
   "file_extension": ".py",
   "mimetype": "text/x-python",
   "name": "python",
   "nbconvert_exporter": "python",
   "pygments_lexer": "ipython3",
   "version": "3.7.8"
  }
 },
 "nbformat": 4,
 "nbformat_minor": 4
}
